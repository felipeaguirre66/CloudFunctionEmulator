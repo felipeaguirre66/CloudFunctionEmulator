{
 "cells": [
  {
   "cell_type": "code",
   "execution_count": null,
   "metadata": {},
   "outputs": [],
   "source": [
    "# from mp_listen import\n",
    "from dotenv import load_dotenv\n",
    "import requests\n",
    "from mail_utils import send_mail, render_template\n",
    "\n",
    "load_dotenv()\n",
    "\n",
    "# DIRECTUS_TOKEN = os.environ.get(\"DIRECTUS_TOKEN\")\n",
    "\n",
    "VALID_ACTIONS = [\"send_mail\", \"render_template\"]\n",
    "\n",
    "def handle(request):\n",
    "    if request.method == \"OPTIONS\":\n",
    "        headers = {\n",
    "            \"Access-Control-Allow-Origin\": \"*\",\n",
    "            \"Access-Control-Allow-Methods\": \"POST\",\n",
    "            \"Access-Control-Allow-Headers\": \"*\",\n",
    "            \"Access-Control-Max-Age\": \"3600\",\n",
    "        }\n",
    "        return (\"\", 204, headers)\n",
    "\n",
    "    params = request.get_json(silent=True)\n",
    "    headers = {\"Access-Control-Allow-Origin\": \"*\"}\n",
    "\n",
    "    if params[\"action\"] not in VALID_ACTIONS:\n",
    "        return ({\"message\": \"Invalid action\"}, 400, headers)\n",
    "\n",
    "    if params[\"action\"] == \"render_template\":\n",
    "        rendered = render_template(params['html'], params['vars'])\n",
    "        rendered_text = render_template(params['plain_text'], params['vars'])\n",
    "\n",
    "        response = send_mail(\n",
    "            params[\"email\"],\n",
    "            params[\"subject\"],\n",
    "            rendered,\n",
    "            rendered_text,\n",
    "        )\n",
    "        if response:\n",
    "            return (response, 201, headers)\n",
    "        else:\n",
    "            return ('Error', 400, headers)\n",
    "\n",
    "\n",
    "    elif params[\"action\"] == \"send_mail\":\n",
    "        response = send_mail(\n",
    "            params[\"email\"],\n",
    "            params[\"subject\"],\n",
    "            params.get(\"body_html\", \"\"),\n",
    "            params.get(\"body_text\", \"\"),\n",
    "        )\n",
    "        if response:\n",
    "            return (response, 201, headers)\n",
    "        else: \n",
    "            return (response, 400, headers)\n"
   ]
  },
  {
   "cell_type": "code",
   "execution_count": 1,
   "metadata": {},
   "outputs": [],
   "source": [
    "import datetime"
   ]
  },
  {
   "cell_type": "code",
   "execution_count": 4,
   "metadata": {},
   "outputs": [
    {
     "data": {
      "text/plain": [
       "1011.5"
      ]
     },
     "execution_count": 4,
     "metadata": {},
     "output_type": "execute_result"
    }
   ],
   "source": [
    "datetime.datetime.now().year /2"
   ]
  }
 ],
 "metadata": {
  "kernelspec": {
   "display_name": "env_cf_emulator",
   "language": "python",
   "name": "python3"
  },
  "language_info": {
   "codemirror_mode": {
    "name": "ipython",
    "version": 3
   },
   "file_extension": ".py",
   "mimetype": "text/x-python",
   "name": "python",
   "nbconvert_exporter": "python",
   "pygments_lexer": "ipython3",
   "version": "3.11.0"
  },
  "orig_nbformat": 4
 },
 "nbformat": 4,
 "nbformat_minor": 2
}
